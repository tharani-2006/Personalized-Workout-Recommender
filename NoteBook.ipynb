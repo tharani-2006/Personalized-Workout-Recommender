{
 "cells": [
  {
   "cell_type": "code",
   "execution_count": 3,
   "id": "160deee7",
   "metadata": {},
   "outputs": [
    {
     "name": "stderr",
     "output_type": "stream",
     "text": [
      "d:\\2025\\ML\\Personalized-Workout-Recommender\\.venv\\Lib\\site-packages\\tqdm\\auto.py:21: TqdmWarning: IProgress not found. Please update jupyter and ipywidgets. See https://ipywidgets.readthedocs.io/en/stable/user_install.html\n",
      "  from .autonotebook import tqdm as notebook_tqdm\n",
      "d:\\2025\\ML\\Personalized-Workout-Recommender\\.venv\\Lib\\site-packages\\huggingface_hub\\file_download.py:143: UserWarning: `huggingface_hub` cache-system uses symlinks by default to efficiently store duplicated files but your machine does not support them in C:\\Users\\thara\\.cache\\huggingface\\hub\\datasets--navaneeth005--workoutplanner. Caching files will still work but in a degraded version that might require more space on your disk. This warning can be disabled by setting the `HF_HUB_DISABLE_SYMLINKS_WARNING` environment variable. For more details, see https://huggingface.co/docs/huggingface_hub/how-to-cache#limitations.\n",
      "To support symlinks on Windows, you either need to activate Developer Mode or to run Python as an administrator. In order to activate developer mode, see this article: https://docs.microsoft.com/en-us/windows/apps/get-started/enable-your-device-for-development\n",
      "  warnings.warn(message)\n",
      "Generating train split: 100%|██████████| 1800/1800 [00:00<00:00, 27407.58 examples/s]"
     ]
    },
    {
     "name": "stdout",
     "output_type": "stream",
     "text": [
      "DatasetDict({\n",
      "    train: Dataset({\n",
      "        features: ['prompt', 'completion'],\n",
      "        num_rows: 1800\n",
      "    })\n",
      "})\n",
      "dict_keys(['train'])\n",
      "{'prompt': ['I am a 21-year-old male with a height of 180 cm and a weight of 55 kg. My primary goal is endurance, and I aim to reach a target weight of 45 kg. I am a beginner at the gym. Can you create a 7-day workout plan for me?', 'I am a 45-year-old male with a height of 200 cm and a weight of 59 kg. My primary goal is weight loss, and I aim to reach a target weight of 54 kg. I am a intermediate at the gym. Can you create a 7-day workout plan for me?', 'I am a 44-year-old female with a height of 194 cm and a weight of 55 kg. My primary goal is weight loss, and I aim to reach a target weight of 50 kg. I am a advanced at the gym. Can you create a 7-day workout plan for me?', 'I am a 52-year-old female with a height of 196 cm and a weight of 73 kg. My primary goal is weight loss, and I aim to reach a target weight of 68 kg. I am a intermediate at the gym. Can you create a 7-day workout plan for me?', 'I am a 31-year-old male with a height of 169 cm and a weight of 57 kg. My primary goal is muscle gain, and I aim to reach a target weight of 62 kg. I am a beginner at the gym. Can you create a 7-day workout plan for me?'], 'completion': ['Monday:\\n- Russian Twists: 3 sets of 20 reps\\n- Pull-ups: 3 sets of 10 reps\\n- Squats: 3 sets of 10 reps\\nTuesday:\\n- Burpees: 3 sets of 6 reps\\n- Running: 3 sets of 20 reps\\n- Shoulder Press: 3 sets of 20 reps\\nWednesday:\\n- Rest Day\\nThursday:\\n- Planks: 3 sets of 6 reps\\n- Tricep Dips: 3 sets of 15 reps\\n- Shoulder Press: 3 sets of 8 reps\\nFriday:\\n- Walking: 3 sets of 10 reps\\n- Planks: 3 sets of 20 reps\\n- Squats: 3 sets of 12 reps\\nSaturday:\\n- Rest Day\\nSunday:\\n- Rest Day', 'Monday:\\n- Leg Press: 3 sets of 15 reps\\n- Kettlebell Swings: 3 sets of 6 reps\\n- Dumbbell Rows: 3 sets of 15 reps\\nTuesday:\\n- Leg Press: 3 sets of 20 reps\\n- Lunges: 3 sets of 15 reps\\n- Push-ups: 3 sets of 20 reps\\nWednesday:\\n- Rest Day\\nThursday:\\n- Jumping Jacks: 3 sets of 15 reps\\n- Cycling: 3 sets of 8 reps\\n- Shoulder Press: 3 sets of 6 reps\\nFriday:\\n- Cycling: 3 sets of 8 reps\\n- Burpees: 3 sets of 12 reps\\n- Pull-ups: 3 sets of 12 reps\\nSaturday:\\n- Rest Day\\nSunday:\\n- Rest Day', 'Monday:\\n- Walking: 3 sets of 12 reps\\n- Jumping Jacks: 3 sets of 20 reps\\n- Running: 3 sets of 10 reps\\nTuesday:\\n- Burpees: 3 sets of 6 reps\\n- Walking: 3 sets of 6 reps\\n- High Knees: 3 sets of 10 reps\\nWednesday:\\n- Rest Day\\nThursday:\\n- Jumping Jacks: 3 sets of 15 reps\\n- Dumbbell Rows: 3 sets of 8 reps\\n- Jump Rope: 3 sets of 6 reps\\nFriday:\\n- Sit-ups: 3 sets of 15 reps\\n- Running: 3 sets of 20 reps\\n- Burpees: 3 sets of 6 reps\\nSaturday:\\n- Rest Day\\nSunday:\\n- Rest Day', 'Monday:\\n- Lunges: 3 sets of 20 reps\\n- Jumping Jacks: 3 sets of 10 reps\\n- Deadlifts: 3 sets of 12 reps\\nTuesday:\\n- Mountain Climbers: 3 sets of 20 reps\\n- Kettlebell Swings: 3 sets of 15 reps\\n- Deadlifts: 3 sets of 10 reps\\nWednesday:\\n- Rest Day\\nThursday:\\n- Leg Press: 3 sets of 6 reps\\n- Russian Twists: 3 sets of 15 reps\\n- Lunges: 3 sets of 8 reps\\nFriday:\\n- Russian Twists: 3 sets of 6 reps\\n- Running: 3 sets of 20 reps\\n- Shoulder Press: 3 sets of 10 reps\\nSaturday:\\n- Rest Day\\nSunday:\\n- Rest Day', 'Monday:\\n- Dumbbell Rows: 3 sets of 15 reps\\n- Planks: 3 sets of 8 reps\\n- Bench Press: 3 sets of 15 reps\\nTuesday:\\n- Burpees: 3 sets of 15 reps\\n- Bench Press: 3 sets of 15 reps\\n- Pull-ups: 3 sets of 15 reps\\nWednesday:\\n- Rest Day\\nThursday:\\n- Kettlebell Swings: 3 sets of 15 reps\\n- Mountain Climbers: 3 sets of 10 reps\\n- Squats: 3 sets of 15 reps\\nFriday:\\n- Dumbbell Rows: 3 sets of 6 reps\\n- Planks: 3 sets of 6 reps\\n- Walking: 3 sets of 20 reps\\nSaturday:\\n- Rest Day\\nSunday:\\n- Rest Day']}\n"
     ]
    },
    {
     "name": "stderr",
     "output_type": "stream",
     "text": [
      "\n"
     ]
    }
   ],
   "source": [
    "from datasets import load_dataset\n",
    "\n",
    "# Load dataset (first time it downloads, so wait a bit)\n",
    "ds = load_dataset(\"navaneeth005/workoutplanner\")\n",
    "\n",
    "# Print dataset info\n",
    "print(ds)\n",
    "\n",
    "# Check available splits (like train, test, validation)\n",
    "print(ds.keys())\n",
    "\n",
    "# Preview first 5 rows of train split\n",
    "print(ds[\"train\"][:5])\n"
   ]
  },
  {
   "cell_type": "code",
   "execution_count": 4,
   "id": "3e3f5b32",
   "metadata": {},
   "outputs": [
    {
     "name": "stdout",
     "output_type": "stream",
     "text": [
      "Dataset saved to data/train.csv\n"
     ]
    }
   ],
   "source": [
    "import pandas as pd\n",
    "\n",
    "# Convert train split to pandas DataFrame\n",
    "df = pd.DataFrame(ds[\"train\"])\n",
    "\n",
    "# Save to data/ folder\n",
    "df.to_csv(\"data/train.csv\", index=False)\n",
    "\n",
    "print(\"Dataset saved to data/train.csv\")\n"
   ]
  }
 ],
 "metadata": {
  "kernelspec": {
   "display_name": ".venv",
   "language": "python",
   "name": "python3"
  },
  "language_info": {
   "codemirror_mode": {
    "name": "ipython",
    "version": 3
   },
   "file_extension": ".py",
   "mimetype": "text/x-python",
   "name": "python",
   "nbconvert_exporter": "python",
   "pygments_lexer": "ipython3",
   "version": "3.12.6"
  }
 },
 "nbformat": 4,
 "nbformat_minor": 5
}
